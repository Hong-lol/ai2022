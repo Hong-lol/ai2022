{
 "cells": [
  {
   "cell_type": "code",
   "execution_count": null,
   "metadata": {},
   "outputs": [],
   "source": [
    "import random\n",
    "\n",
    "\n",
    "board =  [['⬜️ ']*3]*3\n",
    "\n",
    "def draw(board):\n",
    "    for row in board:\n",
    "        for col in row:\n",
    "            print(col, end = '\\n')\n",
    "        print()\n",
    "\n",
    "X = '❌'\n",
    "O = '⭕️'\n",
    "print(board)\n",
    "\n",
    "x, y = map(int, input('insert x,y: ').split(','))\n",
    "print(x, y)\n",
    "\n",
    "\n",
    "board[x][y] = O\n",
    "draw(board)"
   ]
  }
 ],
 "metadata": {
  "kernelspec": {
   "display_name": "Python 3.10.7 64-bit",
   "language": "python",
   "name": "python3"
  },
  "language_info": {
   "name": "python",
   "version": "3.10.7"
  },
  "orig_nbformat": 4,
  "vscode": {
   "interpreter": {
    "hash": "eb4a0ac80907d7f44e1a5e88d3d3381b33e3dbedd3a24d113e876f30a0c46bee"
   }
  }
 },
 "nbformat": 4,
 "nbformat_minor": 2
}
